{
  "cells": [
    {
      "cell_type": "code",
      "execution_count": 1,
      "metadata": {
        "colab": {
          "base_uri": "https://localhost:8080/"
        },
        "id": "6d1o92sXw-GI",
        "outputId": "a8fc7a15-941e-4ed8-f535-1b7d28ff1116"
      },
      "outputs": [
        {
          "name": "stdout",
          "output_type": "stream",
          "text": [
            "Collecting langchain\n",
            "  Downloading langchain-0.3.22-py3-none-any.whl.metadata (7.8 kB)\n",
            "Collecting langchain-core<1.0.0,>=0.3.49 (from langchain)\n",
            "  Downloading langchain_core-0.3.49-py3-none-any.whl.metadata (5.9 kB)\n",
            "Collecting langchain-text-splitters<1.0.0,>=0.3.7 (from langchain)\n",
            "  Using cached langchain_text_splitters-0.3.7-py3-none-any.whl.metadata (1.9 kB)\n",
            "Requirement already satisfied: langsmith<0.4,>=0.1.17 in c:\\users\\juanluisgarciamendoz\\appdata\\local\\packages\\pythonsoftwarefoundation.python.3.11_qbz5n2kfra8p0\\localcache\\local-packages\\python311\\site-packages (from langchain) (0.3.8)\n",
            "Requirement already satisfied: pydantic<3.0.0,>=2.7.4 in c:\\users\\juanluisgarciamendoz\\appdata\\local\\packages\\pythonsoftwarefoundation.python.3.11_qbz5n2kfra8p0\\localcache\\local-packages\\python311\\site-packages (from langchain) (2.9.2)\n",
            "Collecting SQLAlchemy<3,>=1.4 (from langchain)\n",
            "  Downloading sqlalchemy-2.0.40-cp311-cp311-win_amd64.whl.metadata (9.9 kB)\n",
            "Requirement already satisfied: requests<3,>=2 in c:\\users\\juanluisgarciamendoz\\appdata\\local\\packages\\pythonsoftwarefoundation.python.3.11_qbz5n2kfra8p0\\localcache\\local-packages\\python311\\site-packages (from langchain) (2.32.2)\n",
            "Requirement already satisfied: PyYAML>=5.3 in c:\\users\\juanluisgarciamendoz\\appdata\\local\\packages\\pythonsoftwarefoundation.python.3.11_qbz5n2kfra8p0\\localcache\\local-packages\\python311\\site-packages (from langchain) (6.0.1)\n",
            "Requirement already satisfied: tenacity!=8.4.0,<10.0.0,>=8.1.0 in c:\\users\\juanluisgarciamendoz\\appdata\\local\\packages\\pythonsoftwarefoundation.python.3.11_qbz5n2kfra8p0\\localcache\\local-packages\\python311\\site-packages (from langchain-core<1.0.0,>=0.3.49->langchain) (9.0.0)\n",
            "Requirement already satisfied: jsonpatch<2.0,>=1.33 in c:\\users\\juanluisgarciamendoz\\appdata\\local\\packages\\pythonsoftwarefoundation.python.3.11_qbz5n2kfra8p0\\localcache\\local-packages\\python311\\site-packages (from langchain-core<1.0.0,>=0.3.49->langchain) (1.33)\n",
            "Requirement already satisfied: packaging<25,>=23.2 in c:\\users\\juanluisgarciamendoz\\appdata\\local\\packages\\pythonsoftwarefoundation.python.3.11_qbz5n2kfra8p0\\localcache\\local-packages\\python311\\site-packages (from langchain-core<1.0.0,>=0.3.49->langchain) (23.2)\n",
            "Requirement already satisfied: typing-extensions>=4.7 in c:\\users\\juanluisgarciamendoz\\appdata\\local\\packages\\pythonsoftwarefoundation.python.3.11_qbz5n2kfra8p0\\localcache\\local-packages\\python311\\site-packages (from langchain-core<1.0.0,>=0.3.49->langchain) (4.12.0)\n",
            "Requirement already satisfied: httpx<1,>=0.23.0 in c:\\users\\juanluisgarciamendoz\\appdata\\local\\packages\\pythonsoftwarefoundation.python.3.11_qbz5n2kfra8p0\\localcache\\local-packages\\python311\\site-packages (from langsmith<0.4,>=0.1.17->langchain) (0.27.0)\n",
            "Requirement already satisfied: orjson<4.0.0,>=3.9.14 in c:\\users\\juanluisgarciamendoz\\appdata\\local\\packages\\pythonsoftwarefoundation.python.3.11_qbz5n2kfra8p0\\localcache\\local-packages\\python311\\site-packages (from langsmith<0.4,>=0.1.17->langchain) (3.10.15)\n",
            "Requirement already satisfied: requests-toolbelt<2.0.0,>=1.0.0 in c:\\users\\juanluisgarciamendoz\\appdata\\local\\packages\\pythonsoftwarefoundation.python.3.11_qbz5n2kfra8p0\\localcache\\local-packages\\python311\\site-packages (from langsmith<0.4,>=0.1.17->langchain) (1.0.0)\n",
            "Requirement already satisfied: zstandard<0.24.0,>=0.23.0 in c:\\users\\juanluisgarciamendoz\\appdata\\local\\packages\\pythonsoftwarefoundation.python.3.11_qbz5n2kfra8p0\\localcache\\local-packages\\python311\\site-packages (from langsmith<0.4,>=0.1.17->langchain) (0.23.0)\n",
            "Requirement already satisfied: annotated-types>=0.6.0 in c:\\users\\juanluisgarciamendoz\\appdata\\local\\packages\\pythonsoftwarefoundation.python.3.11_qbz5n2kfra8p0\\localcache\\local-packages\\python311\\site-packages (from pydantic<3.0.0,>=2.7.4->langchain) (0.7.0)\n",
            "Requirement already satisfied: pydantic-core==2.23.4 in c:\\users\\juanluisgarciamendoz\\appdata\\local\\packages\\pythonsoftwarefoundation.python.3.11_qbz5n2kfra8p0\\localcache\\local-packages\\python311\\site-packages (from pydantic<3.0.0,>=2.7.4->langchain) (2.23.4)\n",
            "Requirement already satisfied: charset-normalizer<4,>=2 in c:\\users\\juanluisgarciamendoz\\appdata\\local\\packages\\pythonsoftwarefoundation.python.3.11_qbz5n2kfra8p0\\localcache\\local-packages\\python311\\site-packages (from requests<3,>=2->langchain) (3.3.2)\n",
            "Requirement already satisfied: idna<4,>=2.5 in c:\\users\\juanluisgarciamendoz\\appdata\\local\\packages\\pythonsoftwarefoundation.python.3.11_qbz5n2kfra8p0\\localcache\\local-packages\\python311\\site-packages (from requests<3,>=2->langchain) (3.6)\n",
            "Requirement already satisfied: urllib3<3,>=1.21.1 in c:\\users\\juanluisgarciamendoz\\appdata\\local\\packages\\pythonsoftwarefoundation.python.3.11_qbz5n2kfra8p0\\localcache\\local-packages\\python311\\site-packages (from requests<3,>=2->langchain) (1.26.18)\n",
            "Requirement already satisfied: certifi>=2017.4.17 in c:\\users\\juanluisgarciamendoz\\appdata\\local\\packages\\pythonsoftwarefoundation.python.3.11_qbz5n2kfra8p0\\localcache\\local-packages\\python311\\site-packages (from requests<3,>=2->langchain) (2023.11.17)\n",
            "Collecting greenlet>=1 (from SQLAlchemy<3,>=1.4->langchain)\n",
            "  Using cached greenlet-3.1.1-cp311-cp311-win_amd64.whl.metadata (3.9 kB)\n",
            "Requirement already satisfied: anyio in c:\\users\\juanluisgarciamendoz\\appdata\\local\\packages\\pythonsoftwarefoundation.python.3.11_qbz5n2kfra8p0\\localcache\\local-packages\\python311\\site-packages (from httpx<1,>=0.23.0->langsmith<0.4,>=0.1.17->langchain) (4.3.0)\n",
            "Requirement already satisfied: httpcore==1.* in c:\\users\\juanluisgarciamendoz\\appdata\\local\\packages\\pythonsoftwarefoundation.python.3.11_qbz5n2kfra8p0\\localcache\\local-packages\\python311\\site-packages (from httpx<1,>=0.23.0->langsmith<0.4,>=0.1.17->langchain) (1.0.5)\n",
            "Requirement already satisfied: sniffio in c:\\users\\juanluisgarciamendoz\\appdata\\local\\packages\\pythonsoftwarefoundation.python.3.11_qbz5n2kfra8p0\\localcache\\local-packages\\python311\\site-packages (from httpx<1,>=0.23.0->langsmith<0.4,>=0.1.17->langchain) (1.3.1)\n",
            "Requirement already satisfied: h11<0.15,>=0.13 in c:\\users\\juanluisgarciamendoz\\appdata\\local\\packages\\pythonsoftwarefoundation.python.3.11_qbz5n2kfra8p0\\localcache\\local-packages\\python311\\site-packages (from httpcore==1.*->httpx<1,>=0.23.0->langsmith<0.4,>=0.1.17->langchain) (0.14.0)\n",
            "Requirement already satisfied: jsonpointer>=1.9 in c:\\users\\juanluisgarciamendoz\\appdata\\local\\packages\\pythonsoftwarefoundation.python.3.11_qbz5n2kfra8p0\\localcache\\local-packages\\python311\\site-packages (from jsonpatch<2.0,>=1.33->langchain-core<1.0.0,>=0.3.49->langchain) (2.4)\n",
            "Downloading langchain-0.3.22-py3-none-any.whl (1.0 MB)\n",
            "   ---------------------------------------- 0.0/1.0 MB ? eta -:--:--\n",
            "   ------ --------------------------------- 0.2/1.0 MB 3.1 MB/s eta 0:00:01\n",
            "   ----------- ---------------------------- 0.3/1.0 MB 3.6 MB/s eta 0:00:01\n",
            "   ------------------- -------------------- 0.5/1.0 MB 3.4 MB/s eta 0:00:01\n",
            "   ------------------------- -------------- 0.6/1.0 MB 3.4 MB/s eta 0:00:01\n",
            "   ----------------------------------- ---- 0.9/1.0 MB 3.7 MB/s eta 0:00:01\n",
            "   ---------------------------------------- 1.0/1.0 MB 3.8 MB/s eta 0:00:00\n",
            "Downloading langchain_core-0.3.49-py3-none-any.whl (420 kB)\n",
            "   ---------------------------------------- 0.0/420.1 kB ? eta -:--:--\n",
            "   -------------------------- ------------- 276.5/420.1 kB 5.7 MB/s eta 0:00:01\n",
            "   ---------------------------------------- 420.1/420.1 kB 5.3 MB/s eta 0:00:00\n",
            "Using cached langchain_text_splitters-0.3.7-py3-none-any.whl (32 kB)\n",
            "Downloading sqlalchemy-2.0.40-cp311-cp311-win_amd64.whl (2.1 MB)\n",
            "   ---------------------------------------- 0.0/2.1 MB ? eta -:--:--\n",
            "   --- ------------------------------------ 0.2/2.1 MB 3.9 MB/s eta 0:00:01\n",
            "   ------- -------------------------------- 0.4/2.1 MB 4.1 MB/s eta 0:00:01\n",
            "   ------------ --------------------------- 0.6/2.1 MB 4.5 MB/s eta 0:00:01\n",
            "   ---------------- ----------------------- 0.9/2.1 MB 5.1 MB/s eta 0:00:01\n",
            "   -------------------- ------------------- 1.1/2.1 MB 4.6 MB/s eta 0:00:01\n",
            "   ------------------------- -------------- 1.4/2.1 MB 4.8 MB/s eta 0:00:01\n",
            "   ------------------------------ --------- 1.6/2.1 MB 5.1 MB/s eta 0:00:01\n",
            "   ----------------------------------- ---- 1.9/2.1 MB 4.9 MB/s eta 0:00:01\n",
            "   ---------------------------------------  2.1/2.1 MB 5.0 MB/s eta 0:00:01\n",
            "   ---------------------------------------- 2.1/2.1 MB 5.0 MB/s eta 0:00:00\n",
            "Using cached greenlet-3.1.1-cp311-cp311-win_amd64.whl (298 kB)\n",
            "Installing collected packages: greenlet, SQLAlchemy, langchain-core, langchain-text-splitters, langchain\n",
            "  Attempting uninstall: langchain-core\n",
            "    Found existing installation: langchain-core 0.3.37\n",
            "    Uninstalling langchain-core-0.3.37:\n",
            "      Successfully uninstalled langchain-core-0.3.37\n",
            "  Attempting uninstall: langchain-text-splitters\n",
            "    Found existing installation: langchain-text-splitters 0.3.6\n",
            "    Uninstalling langchain-text-splitters-0.3.6:\n",
            "      Successfully uninstalled langchain-text-splitters-0.3.6\n",
            "Successfully installed SQLAlchemy-2.0.40 greenlet-3.1.1 langchain-0.3.22 langchain-core-0.3.49 langchain-text-splitters-0.3.7\n"
          ]
        },
        {
          "name": "stderr",
          "output_type": "stream",
          "text": [
            "\n",
            "[notice] A new release of pip is available: 23.3.2 -> 25.0.1\n",
            "[notice] To update, run: C:\\Users\\JuanLuisGarciaMendoz\\AppData\\Local\\Microsoft\\WindowsApps\\PythonSoftwareFoundation.Python.3.11_qbz5n2kfra8p0\\python.exe -m pip install --upgrade pip\n"
          ]
        },
        {
          "name": "stdout",
          "output_type": "stream",
          "text": [
            "Collecting langchain_openai\n",
            "  Downloading langchain_openai-0.3.11-py3-none-any.whl.metadata (2.3 kB)\n",
            "Requirement already satisfied: langchain-core<1.0.0,>=0.3.49 in c:\\users\\juanluisgarciamendoz\\appdata\\local\\packages\\pythonsoftwarefoundation.python.3.11_qbz5n2kfra8p0\\localcache\\local-packages\\python311\\site-packages (from langchain_openai) (0.3.49)\n",
            "Collecting openai<2.0.0,>=1.68.2 (from langchain_openai)\n",
            "  Downloading openai-1.70.0-py3-none-any.whl.metadata (25 kB)\n",
            "Collecting tiktoken<1,>=0.7 (from langchain_openai)\n",
            "  Downloading tiktoken-0.9.0-cp311-cp311-win_amd64.whl.metadata (6.8 kB)\n",
            "Requirement already satisfied: langsmith<0.4,>=0.1.125 in c:\\users\\juanluisgarciamendoz\\appdata\\local\\packages\\pythonsoftwarefoundation.python.3.11_qbz5n2kfra8p0\\localcache\\local-packages\\python311\\site-packages (from langchain-core<1.0.0,>=0.3.49->langchain_openai) (0.3.8)\n",
            "Requirement already satisfied: tenacity!=8.4.0,<10.0.0,>=8.1.0 in c:\\users\\juanluisgarciamendoz\\appdata\\local\\packages\\pythonsoftwarefoundation.python.3.11_qbz5n2kfra8p0\\localcache\\local-packages\\python311\\site-packages (from langchain-core<1.0.0,>=0.3.49->langchain_openai) (9.0.0)\n",
            "Requirement already satisfied: jsonpatch<2.0,>=1.33 in c:\\users\\juanluisgarciamendoz\\appdata\\local\\packages\\pythonsoftwarefoundation.python.3.11_qbz5n2kfra8p0\\localcache\\local-packages\\python311\\site-packages (from langchain-core<1.0.0,>=0.3.49->langchain_openai) (1.33)\n",
            "Requirement already satisfied: PyYAML>=5.3 in c:\\users\\juanluisgarciamendoz\\appdata\\local\\packages\\pythonsoftwarefoundation.python.3.11_qbz5n2kfra8p0\\localcache\\local-packages\\python311\\site-packages (from langchain-core<1.0.0,>=0.3.49->langchain_openai) (6.0.1)\n",
            "Requirement already satisfied: packaging<25,>=23.2 in c:\\users\\juanluisgarciamendoz\\appdata\\local\\packages\\pythonsoftwarefoundation.python.3.11_qbz5n2kfra8p0\\localcache\\local-packages\\python311\\site-packages (from langchain-core<1.0.0,>=0.3.49->langchain_openai) (23.2)\n",
            "Requirement already satisfied: typing-extensions>=4.7 in c:\\users\\juanluisgarciamendoz\\appdata\\local\\packages\\pythonsoftwarefoundation.python.3.11_qbz5n2kfra8p0\\localcache\\local-packages\\python311\\site-packages (from langchain-core<1.0.0,>=0.3.49->langchain_openai) (4.12.0)\n",
            "Requirement already satisfied: pydantic<3.0.0,>=2.5.2 in c:\\users\\juanluisgarciamendoz\\appdata\\local\\packages\\pythonsoftwarefoundation.python.3.11_qbz5n2kfra8p0\\localcache\\local-packages\\python311\\site-packages (from langchain-core<1.0.0,>=0.3.49->langchain_openai) (2.9.2)\n",
            "Requirement already satisfied: anyio<5,>=3.5.0 in c:\\users\\juanluisgarciamendoz\\appdata\\local\\packages\\pythonsoftwarefoundation.python.3.11_qbz5n2kfra8p0\\localcache\\local-packages\\python311\\site-packages (from openai<2.0.0,>=1.68.2->langchain_openai) (4.3.0)\n",
            "Collecting distro<2,>=1.7.0 (from openai<2.0.0,>=1.68.2->langchain_openai)\n",
            "  Using cached distro-1.9.0-py3-none-any.whl.metadata (6.8 kB)\n",
            "Requirement already satisfied: httpx<1,>=0.23.0 in c:\\users\\juanluisgarciamendoz\\appdata\\local\\packages\\pythonsoftwarefoundation.python.3.11_qbz5n2kfra8p0\\localcache\\local-packages\\python311\\site-packages (from openai<2.0.0,>=1.68.2->langchain_openai) (0.27.0)\n",
            "Collecting jiter<1,>=0.4.0 (from openai<2.0.0,>=1.68.2->langchain_openai)\n",
            "  Using cached jiter-0.9.0-cp311-cp311-win_amd64.whl.metadata (5.3 kB)\n",
            "Requirement already satisfied: sniffio in c:\\users\\juanluisgarciamendoz\\appdata\\local\\packages\\pythonsoftwarefoundation.python.3.11_qbz5n2kfra8p0\\localcache\\local-packages\\python311\\site-packages (from openai<2.0.0,>=1.68.2->langchain_openai) (1.3.1)\n",
            "Requirement already satisfied: tqdm>4 in c:\\users\\juanluisgarciamendoz\\appdata\\local\\packages\\pythonsoftwarefoundation.python.3.11_qbz5n2kfra8p0\\localcache\\local-packages\\python311\\site-packages (from openai<2.0.0,>=1.68.2->langchain_openai) (4.66.5)\n",
            "Requirement already satisfied: regex>=2022.1.18 in c:\\users\\juanluisgarciamendoz\\appdata\\local\\packages\\pythonsoftwarefoundation.python.3.11_qbz5n2kfra8p0\\localcache\\local-packages\\python311\\site-packages (from tiktoken<1,>=0.7->langchain_openai) (2024.9.11)\n",
            "Requirement already satisfied: requests>=2.26.0 in c:\\users\\juanluisgarciamendoz\\appdata\\local\\packages\\pythonsoftwarefoundation.python.3.11_qbz5n2kfra8p0\\localcache\\local-packages\\python311\\site-packages (from tiktoken<1,>=0.7->langchain_openai) (2.32.2)\n",
            "Requirement already satisfied: idna>=2.8 in c:\\users\\juanluisgarciamendoz\\appdata\\local\\packages\\pythonsoftwarefoundation.python.3.11_qbz5n2kfra8p0\\localcache\\local-packages\\python311\\site-packages (from anyio<5,>=3.5.0->openai<2.0.0,>=1.68.2->langchain_openai) (3.6)\n",
            "Requirement already satisfied: certifi in c:\\users\\juanluisgarciamendoz\\appdata\\local\\packages\\pythonsoftwarefoundation.python.3.11_qbz5n2kfra8p0\\localcache\\local-packages\\python311\\site-packages (from httpx<1,>=0.23.0->openai<2.0.0,>=1.68.2->langchain_openai) (2023.11.17)\n",
            "Requirement already satisfied: httpcore==1.* in c:\\users\\juanluisgarciamendoz\\appdata\\local\\packages\\pythonsoftwarefoundation.python.3.11_qbz5n2kfra8p0\\localcache\\local-packages\\python311\\site-packages (from httpx<1,>=0.23.0->openai<2.0.0,>=1.68.2->langchain_openai) (1.0.5)\n",
            "Requirement already satisfied: h11<0.15,>=0.13 in c:\\users\\juanluisgarciamendoz\\appdata\\local\\packages\\pythonsoftwarefoundation.python.3.11_qbz5n2kfra8p0\\localcache\\local-packages\\python311\\site-packages (from httpcore==1.*->httpx<1,>=0.23.0->openai<2.0.0,>=1.68.2->langchain_openai) (0.14.0)\n",
            "Requirement already satisfied: jsonpointer>=1.9 in c:\\users\\juanluisgarciamendoz\\appdata\\local\\packages\\pythonsoftwarefoundation.python.3.11_qbz5n2kfra8p0\\localcache\\local-packages\\python311\\site-packages (from jsonpatch<2.0,>=1.33->langchain-core<1.0.0,>=0.3.49->langchain_openai) (2.4)\n",
            "Requirement already satisfied: orjson<4.0.0,>=3.9.14 in c:\\users\\juanluisgarciamendoz\\appdata\\local\\packages\\pythonsoftwarefoundation.python.3.11_qbz5n2kfra8p0\\localcache\\local-packages\\python311\\site-packages (from langsmith<0.4,>=0.1.125->langchain-core<1.0.0,>=0.3.49->langchain_openai) (3.10.15)\n",
            "Requirement already satisfied: requests-toolbelt<2.0.0,>=1.0.0 in c:\\users\\juanluisgarciamendoz\\appdata\\local\\packages\\pythonsoftwarefoundation.python.3.11_qbz5n2kfra8p0\\localcache\\local-packages\\python311\\site-packages (from langsmith<0.4,>=0.1.125->langchain-core<1.0.0,>=0.3.49->langchain_openai) (1.0.0)\n",
            "Requirement already satisfied: zstandard<0.24.0,>=0.23.0 in c:\\users\\juanluisgarciamendoz\\appdata\\local\\packages\\pythonsoftwarefoundation.python.3.11_qbz5n2kfra8p0\\localcache\\local-packages\\python311\\site-packages (from langsmith<0.4,>=0.1.125->langchain-core<1.0.0,>=0.3.49->langchain_openai) (0.23.0)\n",
            "Requirement already satisfied: annotated-types>=0.6.0 in c:\\users\\juanluisgarciamendoz\\appdata\\local\\packages\\pythonsoftwarefoundation.python.3.11_qbz5n2kfra8p0\\localcache\\local-packages\\python311\\site-packages (from pydantic<3.0.0,>=2.5.2->langchain-core<1.0.0,>=0.3.49->langchain_openai) (0.7.0)\n",
            "Requirement already satisfied: pydantic-core==2.23.4 in c:\\users\\juanluisgarciamendoz\\appdata\\local\\packages\\pythonsoftwarefoundation.python.3.11_qbz5n2kfra8p0\\localcache\\local-packages\\python311\\site-packages (from pydantic<3.0.0,>=2.5.2->langchain-core<1.0.0,>=0.3.49->langchain_openai) (2.23.4)\n",
            "Requirement already satisfied: charset-normalizer<4,>=2 in c:\\users\\juanluisgarciamendoz\\appdata\\local\\packages\\pythonsoftwarefoundation.python.3.11_qbz5n2kfra8p0\\localcache\\local-packages\\python311\\site-packages (from requests>=2.26.0->tiktoken<1,>=0.7->langchain_openai) (3.3.2)\n",
            "Requirement already satisfied: urllib3<3,>=1.21.1 in c:\\users\\juanluisgarciamendoz\\appdata\\local\\packages\\pythonsoftwarefoundation.python.3.11_qbz5n2kfra8p0\\localcache\\local-packages\\python311\\site-packages (from requests>=2.26.0->tiktoken<1,>=0.7->langchain_openai) (1.26.18)\n",
            "Requirement already satisfied: colorama in c:\\users\\juanluisgarciamendoz\\appdata\\local\\packages\\pythonsoftwarefoundation.python.3.11_qbz5n2kfra8p0\\localcache\\local-packages\\python311\\site-packages (from tqdm>4->openai<2.0.0,>=1.68.2->langchain_openai) (0.4.6)\n",
            "Downloading langchain_openai-0.3.11-py3-none-any.whl (60 kB)\n",
            "   ---------------------------------------- 0.0/60.1 kB ? eta -:--:--\n",
            "   ------ --------------------------------- 10.2/60.1 kB ? eta -:--:--\n",
            "   ---------------------------------- ----- 51.2/60.1 kB 525.1 kB/s eta 0:00:01\n",
            "   ---------------------------------------- 60.1/60.1 kB 530.9 kB/s eta 0:00:00\n",
            "Downloading openai-1.70.0-py3-none-any.whl (599 kB)\n",
            "   ---------------------------------------- 0.0/599.1 kB ? eta -:--:--\n",
            "   ---------------------------------------- 0.0/599.1 kB ? eta -:--:--\n",
            "   -- ------------------------------------- 41.0/599.1 kB ? eta -:--:--\n",
            "   ----- ---------------------------------- 81.9/599.1 kB 1.5 MB/s eta 0:00:01\n",
            "   ------- -------------------------------- 112.6/599.1 kB 1.1 MB/s eta 0:00:01\n",
            "   -------- ------------------------------- 122.9/599.1 kB 1.0 MB/s eta 0:00:01\n",
            "   -------- ------------------------------- 122.9/599.1 kB 1.0 MB/s eta 0:00:01\n",
            "   -------- ------------------------------- 122.9/599.1 kB 1.0 MB/s eta 0:00:01\n",
            "   -------- ------------------------------- 122.9/599.1 kB 1.0 MB/s eta 0:00:01\n",
            "   -------- ------------------------------- 122.9/599.1 kB 1.0 MB/s eta 0:00:01\n",
            "   ------------ ------------------------- 194.6/599.1 kB 491.5 kB/s eta 0:00:01\n",
            "   ------------ ------------------------- 194.6/599.1 kB 491.5 kB/s eta 0:00:01\n",
            "   -------------- ----------------------- 225.3/599.1 kB 473.7 kB/s eta 0:00:01\n",
            "   ----------------- -------------------- 276.5/599.1 kB 516.0 kB/s eta 0:00:01\n",
            "   -------------------- ----------------- 327.7/599.1 kB 580.3 kB/s eta 0:00:01\n",
            "   ------------------------ ------------- 378.9/599.1 kB 620.6 kB/s eta 0:00:01\n",
            "   ------------------------------ ------- 481.3/599.1 kB 734.9 kB/s eta 0:00:01\n",
            "   -------------------------------------- 599.1/599.1 kB 855.9 kB/s eta 0:00:00\n",
            "Downloading tiktoken-0.9.0-cp311-cp311-win_amd64.whl (893 kB)\n",
            "   ---------------------------------------- 0.0/893.9 kB ? eta -:--:--\n",
            "   ----- ---------------------------------- 122.9/893.9 kB 2.4 MB/s eta 0:00:01\n",
            "   ---------- ----------------------------- 245.8/893.9 kB 2.5 MB/s eta 0:00:01\n",
            "   ----------------- ---------------------- 399.4/893.9 kB 2.8 MB/s eta 0:00:01\n",
            "   ----------------------- ---------------- 532.5/893.9 kB 2.8 MB/s eta 0:00:01\n",
            "   ------------------------------- -------- 696.3/893.9 kB 2.9 MB/s eta 0:00:01\n",
            "   -------------------------------------- - 860.2/893.9 kB 3.0 MB/s eta 0:00:01\n",
            "   ---------------------------------------- 893.9/893.9 kB 3.0 MB/s eta 0:00:00\n",
            "Using cached distro-1.9.0-py3-none-any.whl (20 kB)\n",
            "Using cached jiter-0.9.0-cp311-cp311-win_amd64.whl (210 kB)\n",
            "Installing collected packages: jiter, distro, tiktoken, openai, langchain_openai\n",
            "Successfully installed distro-1.9.0 jiter-0.9.0 langchain_openai-0.3.11 openai-1.70.0 tiktoken-0.9.0\n"
          ]
        },
        {
          "name": "stderr",
          "output_type": "stream",
          "text": [
            "\n",
            "[notice] A new release of pip is available: 23.3.2 -> 25.0.1\n",
            "[notice] To update, run: C:\\Users\\JuanLuisGarciaMendoz\\AppData\\Local\\Microsoft\\WindowsApps\\PythonSoftwareFoundation.Python.3.11_qbz5n2kfra8p0\\python.exe -m pip install --upgrade pip\n"
          ]
        },
        {
          "name": "stdout",
          "output_type": "stream",
          "text": [
            "Collecting langgraph\n",
            "  Downloading langgraph-0.3.21-py3-none-any.whl.metadata (7.7 kB)\n",
            "Requirement already satisfied: langchain-core<0.4,>=0.1 in c:\\users\\juanluisgarciamendoz\\appdata\\local\\packages\\pythonsoftwarefoundation.python.3.11_qbz5n2kfra8p0\\localcache\\local-packages\\python311\\site-packages (from langgraph) (0.3.49)\n",
            "Collecting langgraph-checkpoint<3.0.0,>=2.0.10 (from langgraph)\n",
            "  Downloading langgraph_checkpoint-2.0.23-py3-none-any.whl.metadata (4.6 kB)\n",
            "Collecting langgraph-prebuilt<0.2,>=0.1.1 (from langgraph)\n",
            "  Downloading langgraph_prebuilt-0.1.7-py3-none-any.whl.metadata (5.0 kB)\n",
            "Collecting langgraph-sdk<0.2.0,>=0.1.42 (from langgraph)\n",
            "  Downloading langgraph_sdk-0.1.60-py3-none-any.whl.metadata (1.8 kB)\n",
            "Requirement already satisfied: xxhash<4.0.0,>=3.5.0 in c:\\users\\juanluisgarciamendoz\\appdata\\local\\packages\\pythonsoftwarefoundation.python.3.11_qbz5n2kfra8p0\\localcache\\local-packages\\python311\\site-packages (from langgraph) (3.5.0)\n",
            "Requirement already satisfied: langsmith<0.4,>=0.1.125 in c:\\users\\juanluisgarciamendoz\\appdata\\local\\packages\\pythonsoftwarefoundation.python.3.11_qbz5n2kfra8p0\\localcache\\local-packages\\python311\\site-packages (from langchain-core<0.4,>=0.1->langgraph) (0.3.8)\n",
            "Requirement already satisfied: tenacity!=8.4.0,<10.0.0,>=8.1.0 in c:\\users\\juanluisgarciamendoz\\appdata\\local\\packages\\pythonsoftwarefoundation.python.3.11_qbz5n2kfra8p0\\localcache\\local-packages\\python311\\site-packages (from langchain-core<0.4,>=0.1->langgraph) (9.0.0)\n",
            "Requirement already satisfied: jsonpatch<2.0,>=1.33 in c:\\users\\juanluisgarciamendoz\\appdata\\local\\packages\\pythonsoftwarefoundation.python.3.11_qbz5n2kfra8p0\\localcache\\local-packages\\python311\\site-packages (from langchain-core<0.4,>=0.1->langgraph) (1.33)\n",
            "Requirement already satisfied: PyYAML>=5.3 in c:\\users\\juanluisgarciamendoz\\appdata\\local\\packages\\pythonsoftwarefoundation.python.3.11_qbz5n2kfra8p0\\localcache\\local-packages\\python311\\site-packages (from langchain-core<0.4,>=0.1->langgraph) (6.0.1)\n",
            "Requirement already satisfied: packaging<25,>=23.2 in c:\\users\\juanluisgarciamendoz\\appdata\\local\\packages\\pythonsoftwarefoundation.python.3.11_qbz5n2kfra8p0\\localcache\\local-packages\\python311\\site-packages (from langchain-core<0.4,>=0.1->langgraph) (23.2)\n",
            "Requirement already satisfied: typing-extensions>=4.7 in c:\\users\\juanluisgarciamendoz\\appdata\\local\\packages\\pythonsoftwarefoundation.python.3.11_qbz5n2kfra8p0\\localcache\\local-packages\\python311\\site-packages (from langchain-core<0.4,>=0.1->langgraph) (4.12.0)\n",
            "Requirement already satisfied: pydantic<3.0.0,>=2.5.2 in c:\\users\\juanluisgarciamendoz\\appdata\\local\\packages\\pythonsoftwarefoundation.python.3.11_qbz5n2kfra8p0\\localcache\\local-packages\\python311\\site-packages (from langchain-core<0.4,>=0.1->langgraph) (2.9.2)\n",
            "Collecting ormsgpack<2.0.0,>=1.8.0 (from langgraph-checkpoint<3.0.0,>=2.0.10->langgraph)\n",
            "  Downloading ormsgpack-1.9.1-cp311-cp311-win_amd64.whl.metadata (44 kB)\n",
            "     ---------------------------------------- 0.0/44.4 kB ? eta -:--:--\n",
            "     ---------------------------------------- 44.4/44.4 kB 1.1 MB/s eta 0:00:00\n",
            "Requirement already satisfied: httpx>=0.25.2 in c:\\users\\juanluisgarciamendoz\\appdata\\local\\packages\\pythonsoftwarefoundation.python.3.11_qbz5n2kfra8p0\\localcache\\local-packages\\python311\\site-packages (from langgraph-sdk<0.2.0,>=0.1.42->langgraph) (0.27.0)\n",
            "Requirement already satisfied: orjson>=3.10.1 in c:\\users\\juanluisgarciamendoz\\appdata\\local\\packages\\pythonsoftwarefoundation.python.3.11_qbz5n2kfra8p0\\localcache\\local-packages\\python311\\site-packages (from langgraph-sdk<0.2.0,>=0.1.42->langgraph) (3.10.15)\n",
            "Requirement already satisfied: anyio in c:\\users\\juanluisgarciamendoz\\appdata\\local\\packages\\pythonsoftwarefoundation.python.3.11_qbz5n2kfra8p0\\localcache\\local-packages\\python311\\site-packages (from httpx>=0.25.2->langgraph-sdk<0.2.0,>=0.1.42->langgraph) (4.3.0)\n",
            "Requirement already satisfied: certifi in c:\\users\\juanluisgarciamendoz\\appdata\\local\\packages\\pythonsoftwarefoundation.python.3.11_qbz5n2kfra8p0\\localcache\\local-packages\\python311\\site-packages (from httpx>=0.25.2->langgraph-sdk<0.2.0,>=0.1.42->langgraph) (2023.11.17)\n",
            "Requirement already satisfied: httpcore==1.* in c:\\users\\juanluisgarciamendoz\\appdata\\local\\packages\\pythonsoftwarefoundation.python.3.11_qbz5n2kfra8p0\\localcache\\local-packages\\python311\\site-packages (from httpx>=0.25.2->langgraph-sdk<0.2.0,>=0.1.42->langgraph) (1.0.5)\n",
            "Requirement already satisfied: idna in c:\\users\\juanluisgarciamendoz\\appdata\\local\\packages\\pythonsoftwarefoundation.python.3.11_qbz5n2kfra8p0\\localcache\\local-packages\\python311\\site-packages (from httpx>=0.25.2->langgraph-sdk<0.2.0,>=0.1.42->langgraph) (3.6)\n",
            "Requirement already satisfied: sniffio in c:\\users\\juanluisgarciamendoz\\appdata\\local\\packages\\pythonsoftwarefoundation.python.3.11_qbz5n2kfra8p0\\localcache\\local-packages\\python311\\site-packages (from httpx>=0.25.2->langgraph-sdk<0.2.0,>=0.1.42->langgraph) (1.3.1)\n",
            "Requirement already satisfied: h11<0.15,>=0.13 in c:\\users\\juanluisgarciamendoz\\appdata\\local\\packages\\pythonsoftwarefoundation.python.3.11_qbz5n2kfra8p0\\localcache\\local-packages\\python311\\site-packages (from httpcore==1.*->httpx>=0.25.2->langgraph-sdk<0.2.0,>=0.1.42->langgraph) (0.14.0)\n",
            "Requirement already satisfied: jsonpointer>=1.9 in c:\\users\\juanluisgarciamendoz\\appdata\\local\\packages\\pythonsoftwarefoundation.python.3.11_qbz5n2kfra8p0\\localcache\\local-packages\\python311\\site-packages (from jsonpatch<2.0,>=1.33->langchain-core<0.4,>=0.1->langgraph) (2.4)\n",
            "Requirement already satisfied: requests<3,>=2 in c:\\users\\juanluisgarciamendoz\\appdata\\local\\packages\\pythonsoftwarefoundation.python.3.11_qbz5n2kfra8p0\\localcache\\local-packages\\python311\\site-packages (from langsmith<0.4,>=0.1.125->langchain-core<0.4,>=0.1->langgraph) (2.32.2)\n",
            "Requirement already satisfied: requests-toolbelt<2.0.0,>=1.0.0 in c:\\users\\juanluisgarciamendoz\\appdata\\local\\packages\\pythonsoftwarefoundation.python.3.11_qbz5n2kfra8p0\\localcache\\local-packages\\python311\\site-packages (from langsmith<0.4,>=0.1.125->langchain-core<0.4,>=0.1->langgraph) (1.0.0)\n",
            "Requirement already satisfied: zstandard<0.24.0,>=0.23.0 in c:\\users\\juanluisgarciamendoz\\appdata\\local\\packages\\pythonsoftwarefoundation.python.3.11_qbz5n2kfra8p0\\localcache\\local-packages\\python311\\site-packages (from langsmith<0.4,>=0.1.125->langchain-core<0.4,>=0.1->langgraph) (0.23.0)\n",
            "Requirement already satisfied: annotated-types>=0.6.0 in c:\\users\\juanluisgarciamendoz\\appdata\\local\\packages\\pythonsoftwarefoundation.python.3.11_qbz5n2kfra8p0\\localcache\\local-packages\\python311\\site-packages (from pydantic<3.0.0,>=2.5.2->langchain-core<0.4,>=0.1->langgraph) (0.7.0)\n",
            "Requirement already satisfied: pydantic-core==2.23.4 in c:\\users\\juanluisgarciamendoz\\appdata\\local\\packages\\pythonsoftwarefoundation.python.3.11_qbz5n2kfra8p0\\localcache\\local-packages\\python311\\site-packages (from pydantic<3.0.0,>=2.5.2->langchain-core<0.4,>=0.1->langgraph) (2.23.4)\n",
            "Requirement already satisfied: charset-normalizer<4,>=2 in c:\\users\\juanluisgarciamendoz\\appdata\\local\\packages\\pythonsoftwarefoundation.python.3.11_qbz5n2kfra8p0\\localcache\\local-packages\\python311\\site-packages (from requests<3,>=2->langsmith<0.4,>=0.1.125->langchain-core<0.4,>=0.1->langgraph) (3.3.2)\n",
            "Requirement already satisfied: urllib3<3,>=1.21.1 in c:\\users\\juanluisgarciamendoz\\appdata\\local\\packages\\pythonsoftwarefoundation.python.3.11_qbz5n2kfra8p0\\localcache\\local-packages\\python311\\site-packages (from requests<3,>=2->langsmith<0.4,>=0.1.125->langchain-core<0.4,>=0.1->langgraph) (1.26.18)\n",
            "Downloading langgraph-0.3.21-py3-none-any.whl (138 kB)\n",
            "   ---------------------------------------- 0.0/138.0 kB ? eta -:--:--\n",
            "   ----------------- ---------------------- 61.4/138.0 kB 1.1 MB/s eta 0:00:01\n",
            "   ----------------------- --------------- 81.9/138.0 kB 919.0 kB/s eta 0:00:01\n",
            "   -------------------------- ------------ 92.2/138.0 kB 751.6 kB/s eta 0:00:01\n",
            "   -------------------------------------- 138.0/138.0 kB 743.0 kB/s eta 0:00:00\n",
            "Downloading langgraph_checkpoint-2.0.23-py3-none-any.whl (41 kB)\n",
            "   ---------------------------------------- 0.0/41.9 kB ? eta -:--:--\n",
            "   ---------------------------------------  41.0/41.9 kB 1.9 MB/s eta 0:00:01\n",
            "   ---------------------------------------- 41.9/41.9 kB 1.0 MB/s eta 0:00:00\n",
            "Downloading langgraph_prebuilt-0.1.7-py3-none-any.whl (25 kB)\n",
            "Downloading langgraph_sdk-0.1.60-py3-none-any.whl (47 kB)\n",
            "   ---------------------------------------- 0.0/47.1 kB ? eta -:--:--\n",
            "   ---------------------------------- ----- 41.0/47.1 kB 1.9 MB/s eta 0:00:01\n",
            "   ---------------------------------------- 47.1/47.1 kB 1.2 MB/s eta 0:00:00\n",
            "Downloading ormsgpack-1.9.1-cp311-cp311-win_amd64.whl (125 kB)\n",
            "   ---------------------------------------- 0.0/125.1 kB ? eta -:--:--\n",
            "   ---------------------- ----------------- 71.7/125.1 kB 1.3 MB/s eta 0:00:01\n",
            "   ---------------------------------------  122.9/125.1 kB 1.2 MB/s eta 0:00:01\n",
            "   ---------------------------------------- 125.1/125.1 kB 1.1 MB/s eta 0:00:00\n",
            "Installing collected packages: ormsgpack, langgraph-sdk, langgraph-checkpoint, langgraph-prebuilt, langgraph\n",
            "Successfully installed langgraph-0.3.21 langgraph-checkpoint-2.0.23 langgraph-prebuilt-0.1.7 langgraph-sdk-0.1.60 ormsgpack-1.9.1\n"
          ]
        },
        {
          "name": "stderr",
          "output_type": "stream",
          "text": [
            "\n",
            "[notice] A new release of pip is available: 23.3.2 -> 25.0.1\n",
            "[notice] To update, run: C:\\Users\\JuanLuisGarciaMendoz\\AppData\\Local\\Microsoft\\WindowsApps\\PythonSoftwareFoundation.Python.3.11_qbz5n2kfra8p0\\python.exe -m pip install --upgrade pip\n"
          ]
        },
        {
          "name": "stdout",
          "output_type": "stream",
          "text": [
            "Collecting python-dotenv\n",
            "  Downloading python_dotenv-1.1.0-py3-none-any.whl.metadata (24 kB)\n",
            "Downloading python_dotenv-1.1.0-py3-none-any.whl (20 kB)\n",
            "Installing collected packages: python-dotenv\n",
            "Successfully installed python-dotenv-1.1.0\n"
          ]
        },
        {
          "name": "stderr",
          "output_type": "stream",
          "text": [
            "\n",
            "[notice] A new release of pip is available: 23.3.2 -> 25.0.1\n",
            "[notice] To update, run: C:\\Users\\JuanLuisGarciaMendoz\\AppData\\Local\\Microsoft\\WindowsApps\\PythonSoftwareFoundation.Python.3.11_qbz5n2kfra8p0\\python.exe -m pip install --upgrade pip\n"
          ]
        }
      ],
      "source": [
        "!pip install langchain\n",
        "!pip install langchain_openai\n",
        "!pip install langgraph\n",
        "!pip install python-dotenv"
      ]
    },
    {
      "cell_type": "code",
      "execution_count": 2,
      "metadata": {
        "id": "i1aoujimx2w9"
      },
      "outputs": [
        {
          "name": "stderr",
          "output_type": "stream",
          "text": [
            "C:\\Users\\JuanLuisGarciaMendoz\\AppData\\Local\\Packages\\PythonSoftwareFoundation.Python.3.11_qbz5n2kfra8p0\\LocalCache\\local-packages\\Python311\\site-packages\\requests\\__init__.py:86: RequestsDependencyWarning: Unable to find acceptable character detection dependency (chardet or charset_normalizer).\n",
            "  warnings.warn(\n"
          ]
        }
      ],
      "source": [
        "from typing import List\n",
        "from enum import Enum\n",
        "from pydantic import BaseModel,Field\n",
        "from langgraph.graph import END, StateGraph, START\n",
        "from langchain_openai import ChatOpenAI\n",
        "from langchain_core.prompts import PromptTemplate\n",
        "from langchain_core.prompts.chat import (\n",
        "    ChatPromptTemplate,\n",
        "    HumanMessagePromptTemplate\n",
        ")"
      ]
    },
    {
      "cell_type": "markdown",
      "metadata": {
        "id": "Ut8BrdumF3d2"
      },
      "source": [
        "### Structures used to organize and validate data within the workflow."
      ]
    },
    {
      "cell_type": "code",
      "execution_count": 3,
      "metadata": {
        "id": "YreYsoVrF1xA"
      },
      "outputs": [],
      "source": [
        "class ReviewerFeedback(BaseModel):\n",
        "    result: str = Field(\n",
        "        description=\"'yes' if the text meets the conditions or 'no' otherwise\"\n",
        "    )\n",
        "    explanation: str = Field(\n",
        "        description=\"Explanation of whether the text meets the conditions or 'not'\"\n",
        "    )\n",
        "class Edition(BaseModel):\n",
        "    text: str = Field(description=\"Edited Text\")\n",
        "    explanation: str = Field(\n",
        "        description=\"Explanation of the changes introduced in the edited text.\"\n",
        "    )\n"
      ]
    },
    {
      "cell_type": "code",
      "execution_count": 4,
      "metadata": {
        "id": "4O92Nx52xIXH"
      },
      "outputs": [],
      "source": [
        "class AgentType(str, Enum):\n",
        "    REVIEWER = \"REVIEWER\"\n",
        "    POST_EDITOR = \"EDITOR\"\n",
        "    CONCILIATOR = \"CONCILIATOR\"\n",
        "\n",
        "class AgentResult(BaseModel):\n",
        "    result: str\n",
        "    explanation: str\n",
        "    agent_type: AgentType\n",
        "\n",
        "class WorkflowState(BaseModel):\n",
        "    text: str\n",
        "    edited_text:str\n",
        "    history: List[AgentResult] = []\n",
        "    iterations: int = 0\n",
        "    max_iterations: int = 3"
      ]
    },
    {
      "cell_type": "markdown",
      "metadata": {
        "id": "lgNTC2O7GUjn"
      },
      "source": [
        "### Prompts"
      ]
    },
    {
      "cell_type": "code",
      "execution_count": 5,
      "metadata": {
        "id": "PZ076knVz049"
      },
      "outputs": [],
      "source": [
        "REVIEWER_PROMPT=\"\"\"You are an expert reviewer. Your task is to evaluate the \\\n",
        "following text based on clarity, coherence, and correctness.\n",
        "\n",
        "### Task Instructions:\n",
        "- Assign a Binary Score:\n",
        "    - \"yes\" if the text meets all conditions.\n",
        "    - \"no\" otherwise.\n",
        "- Provide constructive feedback and suggest improvements.\n",
        "- If the text is already perfect, say 'No changes needed'\n",
        "- Consider the Complete History:\n",
        "    - Review the complete history provided below.\n",
        "    - Understand the evolution and reasoning behind each change.\n",
        "    - Pay close attention to recurring issues and how they have been addressed.\n",
        "    - If you disagree with any of the decisions made, provide a clear explanation of your concerns.\n",
        "\n",
        "**Text**:\n",
        "{text}\n",
        "\n",
        "**History:**\n",
        "{history}\n",
        "\"\"\""
      ]
    },
    {
      "cell_type": "code",
      "execution_count": 6,
      "metadata": {
        "id": "rfRz6Hnz1QBd"
      },
      "outputs": [],
      "source": [
        "EDITOR_PROMPT=\"\"\"You are an expert editor. Based on the reviewer's \\\n",
        "feedback, refine the original text accordingly. Ensure that all suggested \\\n",
        "improvements are implemented while maintaining the original intent.\n",
        "\n",
        "### Task Instructions:\n",
        "- Consider the reviewer's feedback:\n",
        "    - The information provided in History is a detailed history of previous iterations of edition.\n",
        "    - Each iteration includes the edited text along with feedback from either the reviewer or the editor.\n",
        "    - Use this history to understand the evolution of the edition and to avoid repeating past errors.\n",
        "    - Pay special attention to recurring issues identified by the reviewer.\n",
        "- Edit the Text to align with the reviewer's feedback.\n",
        "- Provide an explanation of the changes made.\n",
        "\n",
        "**Text**:\n",
        "{text}\n",
        "\n",
        "**History:**\n",
        "{history}\n",
        "\"\"\""
      ]
    },
    {
      "cell_type": "code",
      "execution_count": 7,
      "metadata": {
        "id": "EHJpJtFj3AwV"
      },
      "outputs": [],
      "source": [
        "CONCILIATOR_PROMPT=\"\"\"You are an expert Conciliator, tasked with resolving \\\n",
        "discrepancies between an Editor and a Reviewer in an editing workflow. \\\n",
        "Your goal is to analyze their interaction history and provide a definitive \\\n",
        "resolution that ensures the final text is clear, coherent, and correct.\n",
        "\n",
        "### Task Instructions:\n",
        "- Analyze the provided history and identify the key points of disagreement.\n",
        "- Provide a definitive resolution for each disputed segment.\n",
        "- Justify your decisions with clear and detailed explanations.\n",
        "- Ensure that the final text maintains clarity, coherence, and correctness.\n",
        "- Provide a summary of the reasoning in the ``explanation`` key.\n",
        "\n",
        "**Original Text**:\n",
        "{text}\n",
        "\n",
        "**History:**\n",
        "{history}\n",
        "\"\"\""
      ]
    },
    {
      "cell_type": "markdown",
      "metadata": {
        "id": "N1SaCQmeGcDP"
      },
      "source": [
        "### Nodes"
      ]
    },
    {
      "cell_type": "code",
      "execution_count": 24,
      "metadata": {
        "id": "be5yKY2Yzcx2"
      },
      "outputs": [],
      "source": [
        "from dotenv import load_dotenv\n",
        "import os\n",
        "\n",
        "load_dotenv()\n",
        "\n",
        "api_key = os.getenv(\"OPEN_AI_API_KEY\")\n",
        "\n",
        "llm = ChatOpenAI(model=\"gpt-4o-mini\", temperature=0.7, openai_api_key=api_key)"
      ]
    },
    {
      "cell_type": "code",
      "execution_count": 38,
      "metadata": {},
      "outputs": [],
      "source": [
        "def history_to_str(history: List[AgentResult]) -> str:\n",
        "    result = \"\"\n",
        "    for r in history:\n",
        "        if r.agent_type == AgentType.CONCILIATOR:\n",
        "            continue\n",
        "        tmp = f\"Text: {r.result}\" if r.agent_type in [AgentType.POST_EDITOR,AgentType.CONCILIATOR]  else f\"Decision: {r.result}\"\n",
        "        result += f\"- {r.agent_type.value}\\n\\t* {tmp}\\n\\t* Suggestions: {r.explanation}\\n\\n\"\n",
        "    return result"
      ]
    },
    {
      "cell_type": "markdown",
      "metadata": {
        "id": "hzupLoRxGnQe"
      },
      "source": [
        "#### Reviewer"
      ]
    },
    {
      "cell_type": "code",
      "execution_count": 32,
      "metadata": {
        "id": "jOqOADGxGlVt"
      },
      "outputs": [],
      "source": [
        "def node_reviewer(state: WorkflowState):\n",
        "    state.iterations += 1\n",
        "    human = HumanMessagePromptTemplate(prompt=PromptTemplate(template=REVIEWER_PROMPT))\n",
        "    template = ChatPromptTemplate.from_messages([human])\n",
        "    chain = template | llm.with_structured_output(ReviewerFeedback)\n",
        "    response = chain.invoke(\n",
        "        {\n",
        "            \"text\": state.edited_text,\n",
        "            \"history\": history_to_str(state.history),\n",
        "        }\n",
        "    )\n",
        "    state.history.append(\n",
        "        AgentResult(\n",
        "            result=response.result,\n",
        "            explanation=response.explanation,\n",
        "            agent_type=AgentType.REVIEWER,\n",
        "        )\n",
        "    )\n",
        "    return state"
      ]
    },
    {
      "cell_type": "markdown",
      "metadata": {
        "id": "KKOX5GnLGrFo"
      },
      "source": [
        "#### Editor"
      ]
    },
    {
      "cell_type": "code",
      "execution_count": 33,
      "metadata": {
        "id": "1ZFPUFnFGrxY"
      },
      "outputs": [],
      "source": [
        "def node_editor(state: WorkflowState):\n",
        "    human = HumanMessagePromptTemplate(prompt=PromptTemplate(template=EDITOR_PROMPT))\n",
        "    template = ChatPromptTemplate.from_messages([human])\n",
        "    chain = template | llm.with_structured_output(Edition)\n",
        "    response = chain.invoke(\n",
        "        {\n",
        "            \"text\": state.edited_text,\n",
        "            \"history\": history_to_str(state.history),\n",
        "        }\n",
        "    )\n",
        "    state.edited_text = response.text\n",
        "    state.history.append(\n",
        "        AgentResult(\n",
        "            result=response.text,\n",
        "            explanation=response.explanation,\n",
        "            agent_type=AgentType.POST_EDITOR,\n",
        "        )\n",
        "    )\n",
        "    return state"
      ]
    },
    {
      "cell_type": "markdown",
      "metadata": {
        "id": "ZhaKk_ErGwPO"
      },
      "source": [
        "#### Conciliator"
      ]
    },
    {
      "cell_type": "code",
      "execution_count": 34,
      "metadata": {
        "id": "xtatf5klyZTF"
      },
      "outputs": [],
      "source": [
        "def node_conciliator(state: WorkflowState):\n",
        "    human = HumanMessagePromptTemplate(prompt=PromptTemplate(template=CONCILIATOR_PROMPT))\n",
        "    template = ChatPromptTemplate.from_messages([human])\n",
        "    chain = template | llm.with_structured_output(Edition)\n",
        "    response = chain.invoke(\n",
        "        {\n",
        "            \"text\": state.text,\n",
        "            \"history\": history_to_str(state.history),\n",
        "        }\n",
        "    )\n",
        "    state.edited_text = response.text\n",
        "    state.history.append(\n",
        "        AgentResult(\n",
        "            result=response.text,\n",
        "            explanation=response.explanation,\n",
        "            agent_type=AgentType.CONCILIATOR,\n",
        "        )\n",
        "    )\n",
        "    return state"
      ]
    },
    {
      "cell_type": "markdown",
      "metadata": {
        "id": "VDYtzLM2G2qi"
      },
      "source": [
        "### Define Graph"
      ]
    },
    {
      "cell_type": "code",
      "execution_count": 35,
      "metadata": {
        "id": "gqQPMdM5yuXl"
      },
      "outputs": [],
      "source": [
        "workflow = StateGraph(WorkflowState)\n",
        "\n",
        "workflow.add_node(\"reviewer\", node_reviewer)\n",
        "workflow.add_node(\"editor\", node_editor)\n",
        "workflow.add_node(\"conciliator\", node_conciliator)\n",
        "\n",
        "\n",
        "workflow.add_edge(START, \"reviewer\")\n",
        "workflow.add_conditional_edges(\n",
        "  \"reviewer\",\n",
        "  lambda state: \"conciliator\" if state.iterations >= state.max_iterations else END if state.history[-1].result == \"yes\" else \"editor\"\n",
        ")\n",
        "workflow.add_edge(\"editor\", \"reviewer\")\n",
        "workflow.add_edge(\"conciliator\", END)\n",
        "\n",
        "graph = workflow.compile()"
      ]
    },
    {
      "cell_type": "code",
      "execution_count": 36,
      "metadata": {
        "colab": {
          "base_uri": "https://localhost:8080/",
          "height": 350
        },
        "id": "zKRDy2A3952I",
        "outputId": "ea928d4d-ca7c-494c-a195-7c6dec9d8364"
      },
      "outputs": [
        {
          "data": {
            "image/png": "[encoded data removed]",
            "text/plain": [
              "<IPython.core.display.Image object>"
            ]
          },
          "metadata": {},
          "output_type": "display_data"
        }
      ],
      "source": [
        "from IPython.display import Image, display\n",
        "from langchain_core.runnables.graph import CurveStyle, MermaidDrawMethod, NodeStyles\n",
        "\n",
        "display(\n",
        "    Image(\n",
        "        graph.get_graph().draw_mermaid_png(\n",
        "            draw_method=MermaidDrawMethod.API,\n",
        "        )\n",
        "    )\n",
        ")"
      ]
    },
    {
      "cell_type": "code",
      "execution_count": 39,
      "metadata": {
        "colab": {
          "base_uri": "https://localhost:8080/"
        },
        "id": "2sThJF7A9_qX",
        "outputId": "ac5179b5-ce4e-470b-eeb1-fef5995d081c"
      },
      "outputs": [
        {
          "name": "stdout",
          "output_type": "stream",
          "text": [
            "The quick brown fox jumps over the lazy dog.\n",
            "[AgentResult(result='no', explanation=\"The sentence contains a grammatical error. It should be 'The quick brown fox jumps over the lazy dog.' to be correct. The verb 'jump' is incorrectly used in the present tense instead of 'jumps'. Additionally, while the sentence is coherent and clear, the grammatical mistake undermines its correctness. To improve, correct the verb form.\", agent_type=<AgentType.REVIEWER: 'REVIEWER'>), AgentResult(result='The quick brown fox jumps over the lazy dog.', explanation=\"The verb 'jump' was corrected to 'jumps' to fix the grammatical error identified by the reviewer. This change ensures that the sentence is in the correct present tense, maintaining clarity and coherence.\", agent_type=<AgentType.POST_EDITOR: 'EDITOR'>), AgentResult(result='yes', explanation=\"The text is clear, coherent, and correct. It is a well-known pangram that effectively demonstrates the use of all letters in the English alphabet. The previous reviewer's concern was addressed by correcting the verb form to 'jumps', which is now accurate. No changes needed.\", agent_type=<AgentType.REVIEWER: 'REVIEWER'>)]\n",
            "- REVIEWER\n",
            "\t* Decision: no\n",
            "\t* Suggestions: The sentence contains a grammatical error. It should be 'The quick brown fox jumps over the lazy dog.' to be correct. The verb 'jump' is incorrectly used in the present tense instead of 'jumps'. Additionally, while the sentence is coherent and clear, the grammatical mistake undermines its correctness. To improve, correct the verb form.\n",
            "\n",
            "- EDITOR\n",
            "\t* Text: The quick brown fox jumps over the lazy dog.\n",
            "\t* Suggestions: The verb 'jump' was corrected to 'jumps' to fix the grammatical error identified by the reviewer. This change ensures that the sentence is in the correct present tense, maintaining clarity and coherence.\n",
            "\n",
            "- REVIEWER\n",
            "\t* Decision: yes\n",
            "\t* Suggestions: The text is clear, coherent, and correct. It is a well-known pangram that effectively demonstrates the use of all letters in the English alphabet. The previous reviewer's concern was addressed by correcting the verb form to 'jumps', which is now accurate. No changes needed.\n",
            "\n",
            "\n"
          ]
        }
      ],
      "source": [
        "text = \"The quick brown fox jump over the lazy dog.\"\n",
        "initial_state = WorkflowState(text=text,edited_text=text)\n",
        "final_state = graph.invoke(initial_state)\n",
        "final_state = WorkflowState(**final_state)\n",
        "print(final_state.edited_text)\n",
        "print(history_to_str(final_state.history))"
      ]
    }
  ],
  "metadata": {
    "colab": {
      "provenance": []
    },
    "kernelspec": {
      "display_name": "Python 3",
      "name": "python3"
    },
    "language_info": {
      "codemirror_mode": {
        "name": "ipython",
        "version": 3
      },
      "file_extension": ".py",
      "mimetype": "text/x-python",
      "name": "python",
      "nbconvert_exporter": "python",
      "pygments_lexer": "ipython3",
      "version": "3.11.9"
    }
  },
  "nbformat": 4,
  "nbformat_minor": 0
}
