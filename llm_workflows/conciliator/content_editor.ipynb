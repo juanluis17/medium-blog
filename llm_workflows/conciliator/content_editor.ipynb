{
  "cells": [
    {
      "cell_type": "code",
      "execution_count": null,
      "metadata": {
        "colab": {
          "base_uri": "https://localhost:8080/"
        },
        "id": "6d1o92sXw-GI",
        "outputId": "a8fc7a15-941e-4ed8-f535-1b7d28ff1116"
      },
      "outputs": [],
      "source": [
        "!pip install langchain\n",
        "!pip install langchain_openai\n",
        "!pip install langgraph\n",
        "!pip install python-dotenv"
      ]
    },
    {
      "cell_type": "code",
      "execution_count": null,
      "metadata": {
        "id": "i1aoujimx2w9"
      },
      "outputs": [],
      "source": [
        "from typing import List\n",
        "from enum import Enum\n",
        "from pydantic import BaseModel,Field\n",
        "from langgraph.graph import END, StateGraph, START\n",
        "from langchain_openai import ChatOpenAI\n",
        "from langchain_core.prompts import PromptTemplate\n",
        "from langchain_core.prompts.chat import (\n",
        "    ChatPromptTemplate,\n",
        "    HumanMessagePromptTemplate\n",
        ")"
      ]
    },
    {
      "cell_type": "markdown",
      "metadata": {
        "id": "Ut8BrdumF3d2"
      },
      "source": [
        "### Structures used to organize and validate data within the workflow."
      ]
    },
    {
      "cell_type": "code",
      "execution_count": 3,
      "metadata": {
        "id": "YreYsoVrF1xA"
      },
      "outputs": [],
      "source": [
        "class ReviewerFeedback(BaseModel):\n",
        "    result: str = Field(\n",
        "        description=\"'yes' if the text meets the conditions or 'no' otherwise\"\n",
        "    )\n",
        "    explanation: str = Field(\n",
        "        description=\"Explanation of whether the text meets the conditions or 'not'\"\n",
        "    )\n",
        "class Edition(BaseModel):\n",
        "    text: str = Field(description=\"Edited Text\")\n",
        "    explanation: str = Field(\n",
        "        description=\"Explanation of the changes introduced in the edited text.\"\n",
        "    )\n"
      ]
    },
    {
      "cell_type": "code",
      "execution_count": 4,
      "metadata": {
        "id": "4O92Nx52xIXH"
      },
      "outputs": [],
      "source": [
        "class AgentType(str, Enum):\n",
        "    REVIEWER = \"REVIEWER\"\n",
        "    POST_EDITOR = \"EDITOR\"\n",
        "    CONCILIATOR = \"CONCILIATOR\"\n",
        "\n",
        "class AgentResult(BaseModel):\n",
        "    result: str\n",
        "    explanation: str\n",
        "    agent_type: AgentType\n",
        "\n",
        "class WorkflowState(BaseModel):\n",
        "    text: str\n",
        "    edited_text:str\n",
        "    history: List[AgentResult] = []\n",
        "    iterations: int = 0\n",
        "    max_iterations: int = 3"
      ]
    },
    {
      "cell_type": "markdown",
      "metadata": {
        "id": "lgNTC2O7GUjn"
      },
      "source": [
        "### Prompts"
      ]
    },
    {
      "cell_type": "code",
      "execution_count": 5,
      "metadata": {
        "id": "PZ076knVz049"
      },
      "outputs": [],
      "source": [
        "REVIEWER_PROMPT=\"\"\"You are an expert reviewer. Your task is to evaluate the \\\n",
        "following text based on clarity, coherence, and correctness.\n",
        "\n",
        "### Task Instructions:\n",
        "- Assign a Binary Score:\n",
        "    - \"yes\" if the text meets all conditions.\n",
        "    - \"no\" otherwise.\n",
        "- Provide constructive feedback and suggest improvements.\n",
        "- If the text is already perfect, say 'No changes needed'\n",
        "- Consider the Complete History:\n",
        "    - Review the complete history provided below.\n",
        "    - Understand the evolution and reasoning behind each change.\n",
        "    - Pay close attention to recurring issues and how they have been addressed.\n",
        "    - If you disagree with any of the decisions made, provide a clear explanation of your concerns.\n",
        "\n",
        "**Text**:\n",
        "{text}\n",
        "\n",
        "**History:**\n",
        "{history}\n",
        "\"\"\""
      ]
    },
    {
      "cell_type": "code",
      "execution_count": 6,
      "metadata": {
        "id": "rfRz6Hnz1QBd"
      },
      "outputs": [],
      "source": [
        "EDITOR_PROMPT=\"\"\"You are an expert editor. Based on the reviewer's \\\n",
        "feedback, refine the original text accordingly. Ensure that all suggested \\\n",
        "improvements are implemented while maintaining the original intent.\n",
        "\n",
        "### Task Instructions:\n",
        "- Consider the reviewer's feedback:\n",
        "    - The information provided in History is a detailed history of previous iterations of edition.\n",
        "    - Each iteration includes the edited text along with feedback from either the reviewer or the editor.\n",
        "    - Use this history to understand the evolution of the edition and to avoid repeating past errors.\n",
        "    - Pay special attention to recurring issues identified by the reviewer.\n",
        "- Edit the Text to align with the reviewer's feedback.\n",
        "- Provide an explanation of the changes made.\n",
        "\n",
        "**Text**:\n",
        "{text}\n",
        "\n",
        "**History:**\n",
        "{history}\n",
        "\"\"\""
      ]
    },
    {
      "cell_type": "code",
      "execution_count": 7,
      "metadata": {
        "id": "EHJpJtFj3AwV"
      },
      "outputs": [],
      "source": [
        "CONCILIATOR_PROMPT=\"\"\"You are an expert Conciliator, tasked with resolving \\\n",
        "discrepancies between an Editor and a Reviewer in an editing workflow. \\\n",
        "Your goal is to analyze their interaction history and provide a definitive \\\n",
        "resolution that ensures the final text is clear, coherent, and correct.\n",
        "\n",
        "### Task Instructions:\n",
        "- Analyze the provided history and identify the key points of disagreement.\n",
        "- Provide a definitive resolution for each disputed segment.\n",
        "- Justify your decisions with clear and detailed explanations.\n",
        "- Ensure that the final text maintains clarity, coherence, and correctness.\n",
        "- Provide a summary of the reasoning in the ``explanation`` key.\n",
        "\n",
        "**Original Text**:\n",
        "{text}\n",
        "\n",
        "**History:**\n",
        "{history}\n",
        "\"\"\""
      ]
    },
    {
      "cell_type": "markdown",
      "metadata": {
        "id": "N1SaCQmeGcDP"
      },
      "source": [
        "### Nodes"
      ]
    },
    {
      "cell_type": "code",
      "execution_count": 24,
      "metadata": {
        "id": "be5yKY2Yzcx2"
      },
      "outputs": [],
      "source": [
        "from dotenv import load_dotenv\n",
        "import os\n",
        "\n",
        "load_dotenv()\n",
        "\n",
        "api_key = os.getenv(\"OPEN_AI_API_KEY\")\n",
        "\n",
        "llm = ChatOpenAI(model=\"gpt-4o-mini\", temperature=0.7, openai_api_key=api_key)"
      ]
    },
    {
      "cell_type": "code",
      "execution_count": 38,
      "metadata": {},
      "outputs": [],
      "source": [
        "def history_to_str(history: List[AgentResult]) -> str:\n",
        "    result = \"\"\n",
        "    for r in history:\n",
        "        if r.agent_type == AgentType.CONCILIATOR:\n",
        "            continue\n",
        "        tmp = f\"Text: {r.result}\" if r.agent_type in [AgentType.POST_EDITOR,AgentType.CONCILIATOR]  else f\"Decision: {r.result}\"\n",
        "        result += f\"- {r.agent_type.value}\\n\\t* {tmp}\\n\\t* Suggestions: {r.explanation}\\n\\n\"\n",
        "    return result"
      ]
    },
    {
      "cell_type": "markdown",
      "metadata": {
        "id": "hzupLoRxGnQe"
      },
      "source": [
        "#### Reviewer"
      ]
    },
    {
      "cell_type": "code",
      "execution_count": 32,
      "metadata": {
        "id": "jOqOADGxGlVt"
      },
      "outputs": [],
      "source": [
        "def node_reviewer(state: WorkflowState):\n",
        "    state.iterations += 1\n",
        "    human = HumanMessagePromptTemplate(prompt=PromptTemplate(template=REVIEWER_PROMPT))\n",
        "    template = ChatPromptTemplate.from_messages([human])\n",
        "    chain = template | llm.with_structured_output(ReviewerFeedback)\n",
        "    response = chain.invoke(\n",
        "        {\n",
        "            \"text\": state.edited_text,\n",
        "            \"history\": history_to_str(state.history),\n",
        "        }\n",
        "    )\n",
        "    state.history.append(\n",
        "        AgentResult(\n",
        "            result=response.result,\n",
        "            explanation=response.explanation,\n",
        "            agent_type=AgentType.REVIEWER,\n",
        "        )\n",
        "    )\n",
        "    return state"
      ]
    },
    {
      "cell_type": "markdown",
      "metadata": {
        "id": "KKOX5GnLGrFo"
      },
      "source": [
        "#### Editor"
      ]
    },
    {
      "cell_type": "code",
      "execution_count": 33,
      "metadata": {
        "id": "1ZFPUFnFGrxY"
      },
      "outputs": [],
      "source": [
        "def node_editor(state: WorkflowState):\n",
        "    human = HumanMessagePromptTemplate(prompt=PromptTemplate(template=EDITOR_PROMPT))\n",
        "    template = ChatPromptTemplate.from_messages([human])\n",
        "    chain = template | llm.with_structured_output(Edition)\n",
        "    response = chain.invoke(\n",
        "        {\n",
        "            \"text\": state.edited_text,\n",
        "            \"history\": history_to_str(state.history),\n",
        "        }\n",
        "    )\n",
        "    state.edited_text = response.text\n",
        "    state.history.append(\n",
        "        AgentResult(\n",
        "            result=response.text,\n",
        "            explanation=response.explanation,\n",
        "            agent_type=AgentType.POST_EDITOR,\n",
        "        )\n",
        "    )\n",
        "    return state"
      ]
    },
    {
      "cell_type": "markdown",
      "metadata": {
        "id": "ZhaKk_ErGwPO"
      },
      "source": [
        "#### Conciliator"
      ]
    },
    {
      "cell_type": "code",
      "execution_count": 34,
      "metadata": {
        "id": "xtatf5klyZTF"
      },
      "outputs": [],
      "source": [
        "def node_conciliator(state: WorkflowState):\n",
        "    human = HumanMessagePromptTemplate(prompt=PromptTemplate(template=CONCILIATOR_PROMPT))\n",
        "    template = ChatPromptTemplate.from_messages([human])\n",
        "    chain = template | llm.with_structured_output(Edition)\n",
        "    response = chain.invoke(\n",
        "        {\n",
        "            \"text\": state.text,\n",
        "            \"history\": history_to_str(state.history),\n",
        "        }\n",
        "    )\n",
        "    state.edited_text = response.text\n",
        "    state.history.append(\n",
        "        AgentResult(\n",
        "            result=response.text,\n",
        "            explanation=response.explanation,\n",
        "            agent_type=AgentType.CONCILIATOR,\n",
        "        )\n",
        "    )\n",
        "    return state"
      ]
    },
    {
      "cell_type": "markdown",
      "metadata": {
        "id": "VDYtzLM2G2qi"
      },
      "source": [
        "### Define Graph"
      ]
    },
    {
      "cell_type": "code",
      "execution_count": 35,
      "metadata": {
        "id": "gqQPMdM5yuXl"
      },
      "outputs": [],
      "source": [
        "workflow = StateGraph(WorkflowState)\n",
        "\n",
        "workflow.add_node(\"reviewer\", node_reviewer)\n",
        "workflow.add_node(\"editor\", node_editor)\n",
        "workflow.add_node(\"conciliator\", node_conciliator)\n",
        "\n",
        "\n",
        "workflow.add_edge(START, \"reviewer\")\n",
        "workflow.add_conditional_edges(\n",
        "  \"reviewer\",\n",
        "  lambda state: \"conciliator\" if state.iterations >= state.max_iterations else END if state.history[-1].result == \"yes\" else \"editor\"\n",
        ")\n",
        "workflow.add_edge(\"editor\", \"reviewer\")\n",
        "workflow.add_edge(\"conciliator\", END)\n",
        "\n",
        "graph = workflow.compile()"
      ]
    },
    {
      "cell_type": "code",
      "execution_count": 36,
      "metadata": {
        "colab": {
          "base_uri": "https://localhost:8080/",
          "height": 350
        },
        "id": "zKRDy2A3952I",
        "outputId": "ea928d4d-ca7c-494c-a195-7c6dec9d8364"
      },
      "outputs": [
        {
          "data": {
            "image/png": "[encoded data removed]",
            "text/plain": [
              "<IPython.core.display.Image object>"
            ]
          },
          "metadata": {},
          "output_type": "display_data"
        }
      ],
      "source": [
        "from IPython.display import Image, display\n",
        "from langchain_core.runnables.graph import CurveStyle, MermaidDrawMethod, NodeStyles\n",
        "\n",
        "display(\n",
        "    Image(\n",
        "        graph.get_graph().draw_mermaid_png(\n",
        "            draw_method=MermaidDrawMethod.API,\n",
        "        )\n",
        "    )\n",
        ")"
      ]
    },
    {
      "cell_type": "code",
      "execution_count": null,
      "metadata": {
        "colab": {
          "base_uri": "https://localhost:8080/"
        },
        "id": "2sThJF7A9_qX",
        "outputId": "ac5179b5-ce4e-470b-eeb1-fef5995d081c"
      },
      "outputs": [],
      "source": [
        "text = \"The quick brown fox jump over the lazy dog.\"\n",
        "initial_state = WorkflowState(text=text,edited_text=text)\n",
        "final_state = graph.invoke(initial_state)\n",
        "final_state = WorkflowState(**final_state)\n",
        "print(final_state.edited_text)\n",
        "print(history_to_str(final_state.history))"
      ]
    }
  ],
  "metadata": {
    "colab": {
      "provenance": []
    },
    "kernelspec": {
      "display_name": "Python 3",
      "name": "python3"
    },
    "language_info": {
      "codemirror_mode": {
        "name": "ipython",
        "version": 3
      },
      "file_extension": ".py",
      "mimetype": "text/x-python",
      "name": "python",
      "nbconvert_exporter": "python",
      "pygments_lexer": "ipython3",
      "version": "3.11.9"
    }
  },
  "nbformat": 4,
  "nbformat_minor": 0
}
